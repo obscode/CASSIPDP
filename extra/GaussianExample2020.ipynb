{
  "nbformat": 4,
  "nbformat_minor": 0,
  "metadata": {
    "colab": {
      "name": "GaussianExample.ipynb",
      "provenance": [],
      "collapsed_sections": []
    },
    "kernelspec": {
      "name": "python3",
      "display_name": "Python 3"
    }
  },
  "cells": [
    {
      "cell_type": "markdown",
      "metadata": {
        "id": "0QEsQkNg9JFU",
        "colab_type": "text"
      },
      "source": [
        "# Example of fitting data with a Gaussian function\n",
        "\n",
        "This notebook is an example of how you can use python to fit data using a model. The steps in this notebook are:\n",
        "0. Generate fake data to fit (normally you would load this in from a data file)\n",
        "1. Plot the data (*always* visualize your data before fitting it, so you know what model to fit and how to assess if the fit is good)\n",
        "2. Run an automatic fit\n",
        "3. Adjust initial parameter fits by hand before running automatic fit\n",
        "4. Assess fit residuals\n",
        "\n",
        "There is no need for you to write or change any code unless you want to:\n",
        "just run through this notebook and get an idea for what python commands are needed to do these steps. This may also be a useful code example for Monday.\n"
      ]
    },
    {
      "cell_type": "markdown",
      "metadata": {
        "id": "JJo3sBP8_tME",
        "colab_type": "text"
      },
      "source": [
        "First get setup. \n",
        "Get packages we will need.  \n",
        "\n",
        "Numpy contains many basic tools such as exponential functions and generating an array.  Matplotlib is used for its plotting packages. Scipy is used for its fitting packages."
      ]
    },
    {
      "cell_type": "code",
      "metadata": {
        "id": "V_r2CQJq_iQy",
        "colab_type": "code",
        "colab": {}
      },
      "source": [
        "import numpy as np\n",
        "from matplotlib import pyplot as plt\n",
        "from scipy import optimize"
      ],
      "execution_count": null,
      "outputs": []
    },
    {
      "cell_type": "markdown",
      "metadata": {
        "id": "4_7wWXAbA5zi",
        "colab_type": "text"
      },
      "source": [
        "## Step 0: Generate data\n",
        "Normally you would load in your data from a data file, but here we will create fake data and fit it.\n",
        "\n",
        "Define a Gaussian function. This will be used both to generate and fit data."
      ]
    },
    {
      "cell_type": "code",
      "metadata": {
        "id": "7cehq0-xBSnC",
        "colab_type": "code",
        "colab": {}
      },
      "source": [
        "## Define Gaussian function f\n",
        "# x = x coordinates\n",
        "# a = peak height parameter\n",
        "# b = offset along the x axis\n",
        "# c = width parameter\n",
        "def f(x,a,b,c):\n",
        "  \"\"\" Gaussian \"\"\"\n",
        "  return a*np.exp((-0.5)*(x-b)**2/c**2)\n",
        "\n",
        "## Generate a Gaussian dataset\n",
        "xdata = np.linspace(0,20,101) # xcoordinate for the data\n",
        "a = 30.  # peak\n",
        "b = 10.  # xoffset\n",
        "c = 2.   # width\n",
        "ytrue = f(xdata,a,b,c)"
      ],
      "execution_count": null,
      "outputs": []
    },
    {
      "cell_type": "markdown",
      "metadata": {
        "id": "Y1j7SZFnGPOU",
        "colab_type": "text"
      },
      "source": [
        "Add error so that our data will be realistic and harder to fit."
      ]
    },
    {
      "cell_type": "code",
      "metadata": {
        "id": "TaLrOI4yGOAc",
        "colab_type": "code",
        "colab": {}
      },
      "source": [
        "## Generate error, assuming normally distributed/gaussian errors\n",
        "\n",
        "# pick a seed from which to generate error\n",
        "np.random.seed(1230497) \n",
        "# generate error values centered around 0, with a width 1.5, with the same number of values as array x\n",
        "yerr = np.random.normal(0,1.5,size=len(xdata))\n",
        "# combine our Gaussian with error values\n",
        "ydata = ytrue + yerr"
      ],
      "execution_count": null,
      "outputs": []
    },
    {
      "cell_type": "markdown",
      "metadata": {
        "id": "tbI2Am5pIHtn",
        "colab_type": "text"
      },
      "source": [
        "Plot it"
      ]
    },
    {
      "cell_type": "code",
      "metadata": {
        "id": "AdlaqvC5IKWM",
        "colab_type": "code",
        "colab": {}
      },
      "source": [
        "plt.plot(xdata,ydata,'b*')\n",
        "plt.xlabel(\"Number of robots\",fontsize=16)\n",
        "plt.ylabel(\"Optimal number of kittens\",fontsize=16)\n",
        "plt.text(1,28,\"How do I fit this?\",fontsize=14)"
      ],
      "execution_count": null,
      "outputs": []
    },
    {
      "cell_type": "markdown",
      "metadata": {
        "id": "pHabAMvtNrrW",
        "colab_type": "text"
      },
      "source": [
        "## Step 1: Attempt an automatic model fit and look at the result\n",
        "First attempt at model fit\n",
        "\n",
        "`scipy` has a function called `scipy.optimize.curve_fit` that tries to automatically fit data."
      ]
    },
    {
      "cell_type": "code",
      "metadata": {
        "id": "aLke_yaRNtxH",
        "colab_type": "code",
        "colab": {}
      },
      "source": [
        "params, pcovar = optimize.curve_fit(f,xdata,ydata)\n",
        "print(\"Best params: a, b, c = \",params)\n",
        "print(\"Covariance matrix of fit:\\n\", pcovar)"
      ],
      "execution_count": null,
      "outputs": []
    },
    {
      "cell_type": "markdown",
      "metadata": {
        "id": "wg1T_HQ_u5SZ",
        "colab_type": "text"
      },
      "source": [
        "Params contains the [peak height, the xoffset, and the width]. The pcovar variable contains the covariance matrix that shares how related the params are to each other.\n",
        "\n",
        "After running a fit, check to see if the result is good by comparing it to data."
      ]
    },
    {
      "cell_type": "code",
      "metadata": {
        "id": "g0v-OjZrNrik",
        "colab_type": "code",
        "colab": {}
      },
      "source": [
        "#plot as before\n",
        "plt.plot(xdata,ydata,'b*')\n",
        "plt.xlabel(\"Number of cowboys\",fontsize=16)\n",
        "plt.ylabel(\"Optimal number of lizards\",fontsize=16)\n",
        "# By inputing *params, each element of the array is fed in to the function one at a time \n",
        "# Note that in our case, xdata is already sorted. If it was not sorted, you would want to sort it before plotting, e.g. with np.sort\n",
        "plt.plot(xdata,f(xdata,*params))\n",
        "plt.text(1,28,\"Oh no, it fit noise\",fontsize=14)\n",
        "# You can annotate a plot relative to the total size using the \"transform\" keyword argument\n",
        "plt.text(0.5,.05,\"More words with relative positioning\",fontsize=14,transform=plt.gca().transAxes,ha=\"center\")"
      ],
      "execution_count": null,
      "outputs": []
    },
    {
      "cell_type": "markdown",
      "metadata": {
        "id": "-75FC3AXucWg",
        "colab_type": "text"
      },
      "source": [
        "## Step 3: Adjust initial parameters by hand\n",
        "\n",
        "Best practice for fitting programs is to generally start fitting with an estimate of the fit parameters, to encourage the program to find the feature you want and make sure you don't fall into any local features like we just did. \n",
        "The guess doesn't have to be right, approximate works just fine.\n",
        "\n",
        "It helps to know what the model parameters do to the model before fitting them. In this case, we use what we know about Gaussians to estimate the parameters\n",
        "* a = peak height parameter\n",
        "* b = offset along the x axis\n",
        "* c = width parameter"
      ]
    },
    {
      "cell_type": "code",
      "metadata": {
        "id": "16aTiE9ZuzUY",
        "colab_type": "code",
        "colab": {}
      },
      "source": [
        "# param format = [height, xoffset, width]\n",
        "guess = [25,9,4]\n",
        "params, pcovar = optimize.curve_fit(f,xdata,ydata,p0=guess) # p0 = initial parameter guess\n",
        "print(\"Best fit:\", params) # much closer to our original values\n",
        "print(\"True values:\",np.array([a,b,c]))"
      ],
      "execution_count": null,
      "outputs": []
    },
    {
      "cell_type": "markdown",
      "metadata": {
        "id": "xIgD-Hfly4Ji",
        "colab_type": "text"
      },
      "source": [
        "Great, those values looks much closer.\n",
        "\n",
        "(For more complicated models, you probably would want to make some plots to get a good initial estimate.)"
      ]
    },
    {
      "cell_type": "code",
      "metadata": {
        "id": "IcYRp57hy5Ec",
        "colab_type": "code",
        "colab": {}
      },
      "source": [
        "#plot as before\n",
        "plt.figure(figsize=(8,5))\n",
        "plt.plot(xdata,ydata,'b*')\n",
        "plt.xlabel(\"Number of aliens\",fontsize=16)\n",
        "plt.ylabel(\"Optimal number of parrots\",fontsize=16)\n",
        "#newline\n",
        "plt.plot(xdata,f(xdata,*guess), label=\"guess for p0\")\n",
        "plt.plot(xdata,f(xdata,*params), label=\"best fit\")\n",
        "plt.text(0,28,\"That looks like a great fit!\",fontsize=14)\n",
        "#add our parameters to the plot so that it is easy to read.\n",
        "#  The formating of the numbers is %(total n#characters).(#characters after decimal point)f \n",
        "#     xpos,ypox, input character string with spaces for params to be input, fontsize\n",
        "plt.text(5, -4,\"height=%4.1f xoffset=%4.1f width=%4.2f\" % tuple(params), fontsize=14 )\n",
        "plt.legend()"
      ],
      "execution_count": null,
      "outputs": []
    },
    {
      "cell_type": "markdown",
      "metadata": {
        "id": "BJrOOiAPEvuF",
        "colab_type": "text"
      },
      "source": [
        "\n",
        "Food for thought: we specified `p0` here, but didn't the first time. What parameter initialization did it choose instead?"
      ]
    },
    {
      "cell_type": "markdown",
      "metadata": {
        "id": "o-0uzgGZG-Wq",
        "colab_type": "text"
      },
      "source": [
        "## Step 4: assess fit residuals\n",
        "\n",
        "To see if there are any systematic residual signals left after fitting, try subtracting your fit from the data."
      ]
    },
    {
      "cell_type": "code",
      "metadata": {
        "id": "Kyw49rDrHDTf",
        "colab_type": "code",
        "colab": {}
      },
      "source": [
        "residual = ydata-f(xdata,*params)\n",
        "#plot as before\n",
        "plt.plot( xdata, residual, 'b*')\n",
        "plt.xlabel( \"Number of pirates\", fontsize=16)\n",
        "plt.ylabel( \"Optimal number of velociraptors\", fontsize=16)\n",
        "#plot a line through zero for reference\n",
        "plt.plot( xdata, np.zeros_like(xdata), color = 'k', ls = '--')\n",
        "plt.text(3,-4.3,\"The residuals are evenly scattered around 0.\",fontsize=14)"
      ],
      "execution_count": null,
      "outputs": []
    },
    {
      "cell_type": "code",
      "metadata": {
        "id": "vQVKTUuChDzg",
        "colab_type": "code",
        "colab": {}
      },
      "source": [
        ""
      ],
      "execution_count": null,
      "outputs": []
    },
    {
      "cell_type": "markdown",
      "metadata": {
        "id": "kzKOHT8zBBFm",
        "colab_type": "text"
      },
      "source": [
        "# Review\n",
        "\n",
        "In this notebook, you learned\n",
        "* how to plot data\n",
        "* how to annotate a plot with text\n",
        "* how to plot a model\n",
        "* how to automatically fit a model to data with `curve_fit`\n",
        "* how to initialize parameters for a fit\n",
        "* how to plot residuals\n",
        "\n",
        "You will use many of these skills next Monday\n",
        "\n"
      ]
    },
    {
      "cell_type": "code",
      "metadata": {
        "id": "ZuLNk6dkBlC9",
        "colab_type": "code",
        "colab": {}
      },
      "source": [
        "?optimize.curve_fit"
      ],
      "execution_count": null,
      "outputs": []
    },
    {
      "cell_type": "code",
      "metadata": {
        "id": "6mj-XUdxEMQC",
        "colab_type": "code",
        "colab": {}
      },
      "source": [
        ""
      ],
      "execution_count": null,
      "outputs": []
    }
  ]
}